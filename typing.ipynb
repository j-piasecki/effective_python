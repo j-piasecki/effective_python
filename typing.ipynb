{
 "cells": [
  {
   "cell_type": "markdown",
   "metadata": {},
   "source": [
    "Mypy is an optional static type checker for Python that aims to combine the benefits of dynamic (or \"duck\") typing and static typing. Mypy combines the expressive power and convenience of Python with a powerful type system and compile-time type checking. Mypy type checks standard Python programs; run them using any Python VM with basically no runtime overhead."
   ]
  },
  {
   "cell_type": "markdown",
   "metadata": {},
   "source": [
    "`nb_mypy` Pozwala na sprawdzanie typów wewnątrz notebooków"
   ]
  },
  {
   "cell_type": "code",
   "execution_count": 22,
   "metadata": {},
   "outputs": [
    {
     "name": "stdout",
     "output_type": "stream",
     "text": [
      "The nb_mypy extension is already loaded. To reload it, use:\n",
      "  %reload_ext nb_mypy\n"
     ]
    }
   ],
   "source": [
    "%load_ext nb_mypy"
   ]
  },
  {
   "cell_type": "markdown",
   "metadata": {},
   "source": [
    "## Proste typy"
   ]
  },
  {
   "cell_type": "code",
   "execution_count": 24,
   "metadata": {},
   "outputs": [
    {
     "name": "stderr",
     "output_type": "stream",
     "text": [
      "<cell>1: \u001b[1m\u001b[31merror:\u001b[m Incompatible types in assignment (expression has type \u001b[m\u001b[1m\"str\"\u001b[m, variable has type \u001b[m\u001b[1m\"int\"\u001b[m)  \u001b[m\u001b[33m[assignment]\u001b[m\n"
     ]
    }
   ],
   "source": [
    "v1: int = 1\n",
    "v2: float = 1.23\n",
    "v3: str = \"hello\"\n",
    "v4: bool = True\n",
    "v5: None = None\n",
    "\n",
    "v6: int | str = 1"
   ]
  },
  {
   "cell_type": "markdown",
   "metadata": {},
   "source": [
    "## Struktury danych"
   ]
  },
  {
   "cell_type": "code",
   "execution_count": 27,
   "metadata": {},
   "outputs": [
    {
     "name": "stderr",
     "output_type": "stream",
     "text": [
      "<cell>8: \u001b[1m\u001b[31merror:\u001b[m Incompatible types in assignment (expression has type \u001b[m\u001b[1m\"tuple[int, int, int, str]\"\u001b[m, variable has type \u001b[m\u001b[1m\"tuple[int, ...]\"\u001b[m)  \u001b[m\u001b[33m[assignment]\u001b[m\n"
     ]
    }
   ],
   "source": [
    "# from typing import List, Set, Dict, Tuple\n",
    "\n",
    "v7: list[int] = [1, 2, 3]\n",
    "v8: set[str] = {\"a\", \"b\", \"C\"}\n",
    "v9: dict[str, int] = {\"a\": 1, \"b\": 2}\n",
    "v10: tuple[int, str, bool] = (1, \"abc\", False)\n",
    "\n",
    "v11: tuple[int, ...] = (1, 2, 3, 'str')\n",
    "\n",
    "# v7: List[int] = [1, 2, 3]\n",
    "# v8: Set[str] = {\"a\", \"b\", \"C\"}\n",
    "# v9: Dict[str, int] = {\"a\": 1, \"b\": 2}\n",
    "# v10: Tuple[int, str, bool] = (1, \"abc\", False)"
   ]
  },
  {
   "cell_type": "markdown",
   "metadata": {},
   "source": [
    "## Aliasy i nowe typy"
   ]
  },
  {
   "cell_type": "code",
   "execution_count": 13,
   "metadata": {},
   "outputs": [],
   "source": [
    "from typing import NewType\n",
    "\n",
    "Vector = list[float]\n",
    "UserId = NewType('UserId', int)"
   ]
  },
  {
   "cell_type": "code",
   "execution_count": 28,
   "metadata": {},
   "outputs": [
    {
     "name": "stdout",
     "output_type": "stream",
     "text": [
      "11\n"
     ]
    }
   ],
   "source": [
    "from functools import reduce\n",
    "\n",
    "def dot(a: Vector, b: Vector) -> float:\n",
    "  return reduce(lambda x, y: x + y, map(lambda x: x[0] * x[1], zip(a, b)))\n",
    "\n",
    "# listy są inwariantne\n",
    "vector1: list[float] = [1, 2]\n",
    "\n",
    "print(dot(vector1, [3, 4]))"
   ]
  },
  {
   "cell_type": "code",
   "execution_count": 30,
   "metadata": {},
   "outputs": [
    {
     "name": "stderr",
     "output_type": "stream",
     "text": [
      "<cell>5: \u001b[1m\u001b[31merror:\u001b[m Argument 1 to \u001b[m\u001b[1m\"save_user\"\u001b[m has incompatible type \u001b[m\u001b[1m\"int\"\u001b[m; expected \u001b[m\u001b[1m\"UserId\"\u001b[m  \u001b[m\u001b[33m[arg-type]\u001b[m\n"
     ]
    },
    {
     "name": "stdout",
     "output_type": "stream",
     "text": [
      "user 2 saved!\n",
      "3 <class 'int'>\n"
     ]
    }
   ],
   "source": [
    "def save_user(user: UserId):\n",
    "  print(\"user\", user, \"saved!\")\n",
    "\n",
    "save_user(UserId(1))\n",
    "# save_user(2)\n",
    "\n",
    "# user3: UserId = UserId(1) + UserId(2)\n",
    "user3: int = UserId(1) + UserId(2)\n",
    "print(user3, type(user3))"
   ]
  },
  {
   "cell_type": "markdown",
   "metadata": {},
   "source": [
    "## Callable"
   ]
  },
  {
   "cell_type": "code",
   "execution_count": 15,
   "metadata": {},
   "outputs": [
    {
     "name": "stdout",
     "output_type": "stream",
     "text": [
      "[5, 7, 9]\n"
     ]
    }
   ],
   "source": [
    "from typing import Callable\n",
    "\n",
    "def add(a: int, b: int) -> int:\n",
    "  return a + b\n",
    "\n",
    "def kind_of_zip(a: list[int], b: list[int], op: Callable[[int, int], int]) -> list[int]:\n",
    "  return list(map(lambda t: op(*t), zip(a, b)))\n",
    "\n",
    "print(kind_of_zip([1, 2, 3], [4, 5, 6], add))"
   ]
  },
  {
   "cell_type": "markdown",
   "metadata": {},
   "source": [
    "## Tuple (i FrozenSet) są kowariantne\n",
    "\n",
    "T jest kowariantny, jezeli:\n",
    "\n",
    "`A <: B => T[A] <: T[B]`"
   ]
  },
  {
   "cell_type": "code",
   "execution_count": 16,
   "metadata": {},
   "outputs": [],
   "source": [
    "class Animal:\n",
    "  def eat(self):\n",
    "    print('Animal eats')\n",
    "\n",
    "class Dog(Animal):\n",
    "  def bark(self):\n",
    "    print('Dog barks')\n",
    "\n",
    "  def eat(self):\n",
    "    print('Dog eats')\n",
    "\n",
    "class Cat(Animal):\n",
    "  def meow(self):\n",
    "    print('Cat meows')\n",
    "\n",
    "  def eat(self):\n",
    "    print('Cat eats')"
   ]
  },
  {
   "cell_type": "code",
   "execution_count": 17,
   "metadata": {},
   "outputs": [
    {
     "name": "stdout",
     "output_type": "stream",
     "text": [
      "Dog eats\n",
      "Dog eats\n",
      "Dog eats\n"
     ]
    }
   ],
   "source": [
    "tuple_of_dogs = (Dog(), Dog(), Dog())\n",
    "\n",
    "def sum(x: tuple[Animal, Animal, Animal]):\n",
    "  for animal in x:\n",
    "    animal.eat()\n",
    "\n",
    "sum(tuple_of_dogs)"
   ]
  },
  {
   "cell_type": "markdown",
   "metadata": {},
   "source": [
    "## Callable jest kowariantny ze względu na zwracany typ"
   ]
  },
  {
   "cell_type": "code",
   "execution_count": 18,
   "metadata": {},
   "outputs": [
    {
     "name": "stdout",
     "output_type": "stream",
     "text": [
      "[<__main__.Cat object at 0x129034750>, <__main__.Cat object at 0x129036b10>]\n",
      "[<__main__.Cat object at 0x129034750>, <__main__.Cat object at 0x129036b10>, <__main__.Dog object at 0x12a11ba90>]\n"
     ]
    }
   ],
   "source": [
    "from typing import Callable\n",
    "\n",
    "def make_dog() -> Dog:\n",
    "  return Dog()\n",
    "\n",
    "def add_animal(lst: list[Animal], op: Callable[[], Animal]):\n",
    "  lst.append(op())\n",
    "\n",
    "animals: list[Animal] = [Cat(), Cat()]\n",
    "print(animals)\n",
    "\n",
    "add_animal(animals, make_dog)\n",
    "\n",
    "print(animals)"
   ]
  },
  {
   "cell_type": "markdown",
   "metadata": {},
   "source": [
    "## Callable jest kontrawariantny ze względu na typy argumentów\n",
    "\n",
    "T jest kontrawariantny, jezeli:\n",
    "\n",
    "`A <: B => T[A] :> T[B]`"
   ]
  },
  {
   "cell_type": "code",
   "execution_count": 19,
   "metadata": {},
   "outputs": [
    {
     "name": "stdout",
     "output_type": "stream",
     "text": [
      "Cat eats\n",
      "Cat eats\n"
     ]
    }
   ],
   "source": [
    "from typing import Callable\n",
    "\n",
    "def feed_animal(animal: Animal):\n",
    "  animal.eat()\n",
    "\n",
    "def feed_cats(lst: list[Cat], feed: Callable[[Cat], None]):\n",
    "  for cat in lst:\n",
    "    cat.eat()\n",
    "\n",
    "cats: list[Cat] = [Cat(), Cat()]\n",
    "\n",
    "feed_cats(cats, feed_animal)\n"
   ]
  },
  {
   "cell_type": "markdown",
   "metadata": {},
   "source": [
    "## Mutowalne kolekcje są inwariantne\n",
    "\n",
    "T jest inwariantny, jezeli:\n",
    "\n",
    "`A <: B => ~(T[A] <: T[B]) && ~(T[A] :> T[B])`"
   ]
  },
  {
   "cell_type": "code",
   "execution_count": 20,
   "metadata": {},
   "outputs": [],
   "source": [
    "# czemu nie są kontrawariantne jest w miarę oczywiste, ale brak kowariancji moze taki nie być\n",
    "\n",
    "# list_of_dogs = [Dog(), Dog()]\n",
    "# list_of_animals: list[Animal] = list_of_dogs\n",
    "# list_of_animals.append(Cat())\n",
    "\n",
    "# for dog in list_of_dogs:\n",
    "#   dog.bark()"
   ]
  },
  {
   "cell_type": "markdown",
   "metadata": {},
   "source": [
    "## Generyki"
   ]
  },
  {
   "cell_type": "code",
   "execution_count": 31,
   "metadata": {},
   "outputs": [
    {
     "name": "stderr",
     "output_type": "stream",
     "text": [
      "<cell>9: \u001b[1m\u001b[31merror:\u001b[m Value of type variable \u001b[m\u001b[1m\"T\"\u001b[m of \u001b[m\u001b[1m\"first\"\u001b[m cannot be \u001b[m\u001b[1m\"int\"\u001b[m  \u001b[m\u001b[33m[type-var]\u001b[m\n"
     ]
    },
    {
     "name": "stdout",
     "output_type": "stream",
     "text": [
      "None\n",
      "1\n"
     ]
    }
   ],
   "source": [
    "from typing import TypeVar, Sequence\n",
    "\n",
    "T = TypeVar('T', str, bool)\n",
    "\n",
    "def first(seq: Sequence[T]) -> T | None:\n",
    "  return seq[0] if len(seq) > 0 else None\n",
    "\n",
    "print(first([]))\n",
    "print(first([1, 2, 3]))"
   ]
  },
  {
   "cell_type": "code",
   "execution_count": 22,
   "metadata": {},
   "outputs": [
    {
     "name": "stdout",
     "output_type": "stream",
     "text": [
      "True\n",
      "False\n"
     ]
    }
   ],
   "source": [
    "from typing import TypeVar, Generic\n",
    "\n",
    "T = TypeVar('T')\n",
    "\n",
    "class Optional(Generic[T]):\n",
    "  def __init__(self, value=None):\n",
    "    self.__value = value\n",
    "  \n",
    "  def get(self) -> T | None:\n",
    "    return self.__value\n",
    "\n",
    "  def set(self, value: T):\n",
    "    self.__value = value\n",
    "\n",
    "  def clear(self):\n",
    "    self.__value = None\n",
    "  \n",
    "  def empty(self):\n",
    "    return self.__value == None\n",
    "\n",
    "optional_intlist: Optional[list[int]] = Optional()\n",
    "print(optional_intlist.empty())\n",
    "\n",
    "optional_string_set: Optional[set[str]] = Optional({\"a\", \"b\"})\n",
    "print(optional_string_set.empty())"
   ]
  },
  {
   "cell_type": "markdown",
   "metadata": {},
   "source": [
    "## Any"
   ]
  },
  {
   "cell_type": "code",
   "execution_count": 23,
   "metadata": {},
   "outputs": [
    {
     "name": "stdout",
     "output_type": "stream",
     "text": [
      "123 HELLO WORLD <__MAIN__.CAT OBJECT AT 0X12A9C9D50>\n"
     ]
    }
   ],
   "source": [
    "from typing import Any\n",
    "\n",
    "def better_print(*args: Any):\n",
    "  print(' '.join(map(str, args)).upper())\n",
    "  \n",
    "better_print(123, \"hello\", \"world\", Cat())"
   ]
  },
  {
   "cell_type": "markdown",
   "metadata": {},
   "source": [
    "## Protokoły"
   ]
  },
  {
   "cell_type": "code",
   "execution_count": 24,
   "metadata": {},
   "outputs": [
    {
     "name": "stdout",
     "output_type": "stream",
     "text": [
      "5\n"
     ]
    }
   ],
   "source": [
    "from typing import Sized\n",
    "\n",
    "# Sized -> __len__\n",
    "# Hashable -> __hash__\n",
    "# Container -> __contains__\n",
    "# Callable -> __call__\n",
    "# Iterable -> __iter__\n",
    "# Iterator -> __iter__, __next__\n",
    "# Reversible -> __reversed__\n",
    "# ... https://docs.python.org/3/library/collections.abc.html, większość ma aliasy w typing\n",
    "\n",
    "class LenableObj(Sized):\n",
    "  def __init__(self, size: int):\n",
    "    self.__size = size\n",
    "\n",
    "  def __len__(self):\n",
    "    return self.__size\n",
    "\n",
    "print(len(LenableObj(5)))"
   ]
  },
  {
   "cell_type": "markdown",
   "metadata": {},
   "source": [
    "## Structural subtyping"
   ]
  },
  {
   "cell_type": "code",
   "execution_count": 25,
   "metadata": {},
   "outputs": [
    {
     "name": "stderr",
     "output_type": "stream",
     "text": [
      "<cell>17: \u001b[1m\u001b[31merror:\u001b[m Argument 1 to \u001b[m\u001b[1m\"fake_len\"\u001b[m has incompatible type \u001b[m\u001b[1m\"NonLenableObj\"\u001b[m; expected \u001b[m\u001b[1m\"Sized\"\u001b[m  \u001b[m\u001b[33m[arg-type]\u001b[m\n"
     ]
    }
   ],
   "source": [
    "from typing import Sized\n",
    "\n",
    "def fake_len(obj: Sized):\n",
    "  pass\n",
    "\n",
    "class NonLenableObj():\n",
    "  def __init__(self, size: int):\n",
    "    self.__size = size\n",
    "\n",
    "class LenableObjNoInheritance():\n",
    "  def __init__(self, size: int):\n",
    "    self.__size = size\n",
    "\n",
    "  def __len__(self):\n",
    "    return self.__size\n",
    "\n",
    "fake_len(NonLenableObj(5))\n",
    "fake_len(LenableObjNoInheritance(5))"
   ]
  },
  {
   "cell_type": "markdown",
   "metadata": {},
   "source": [
    "## Method overloading"
   ]
  },
  {
   "cell_type": "code",
   "execution_count": 32,
   "metadata": {},
   "outputs": [
    {
     "name": "stderr",
     "output_type": "stream",
     "text": [
      "<cell>4: \u001b[1m\u001b[31merror:\u001b[m Single overload definition, multiple required  \u001b[m\u001b[33m[misc]\u001b[m\n",
      "<cell>11: \u001b[1m\u001b[31merror:\u001b[m Name \u001b[m\u001b[1m\"process\"\u001b[m already defined on line 4  \u001b[m\u001b[33m[no-redef]\u001b[m\n",
      "<cell>11: \u001b[1m\u001b[31merror:\u001b[m Single overload definition, multiple required  \u001b[m\u001b[33m[misc]\u001b[m\n",
      "<cell>18: \u001b[1m\u001b[31merror:\u001b[m Argument 1 to \u001b[m\u001b[1m\"process\"\u001b[m of \u001b[m\u001b[1m\"Processor\"\u001b[m has incompatible type \u001b[m\u001b[1m\"str\"\u001b[m; expected \u001b[m\u001b[1m\"int\"\u001b[m  \u001b[m\u001b[33m[arg-type]\u001b[m\n",
      "<cell>20: \u001b[1m\u001b[31merror:\u001b[m Name \u001b[m\u001b[1m\"Cat\"\u001b[m is not defined  \u001b[m\u001b[33m[name-defined]\u001b[m\n"
     ]
    },
    {
     "name": "stdout",
     "output_type": "stream",
     "text": [
      "Received response: Hello world\n",
      "Received response: 42\n"
     ]
    },
    {
     "ename": "NameError",
     "evalue": "name 'Cat' is not defined",
     "output_type": "error",
     "traceback": [
      "\u001b[0;31m---------------------------------------------------------------------------\u001b[0m",
      "\u001b[0;31mNameError\u001b[0m                                 Traceback (most recent call last)",
      "\u001b[1;32m/Users/jakubpiasecki/UJ/python/typing.ipynb Cell 33\u001b[0m line \u001b[0;36m2\n\u001b[1;32m     <a href='vscode-notebook-cell:/Users/jakubpiasecki/UJ/python/typing.ipynb#X44sZmlsZQ%3D%3D?line=17'>18</a>\u001b[0m Processor()\u001b[39m.\u001b[39mprocess(\u001b[39m\"\u001b[39m\u001b[39mHello world\u001b[39m\u001b[39m\"\u001b[39m)\n\u001b[1;32m     <a href='vscode-notebook-cell:/Users/jakubpiasecki/UJ/python/typing.ipynb#X44sZmlsZQ%3D%3D?line=18'>19</a>\u001b[0m Processor()\u001b[39m.\u001b[39mprocess(\u001b[39m42\u001b[39m)\n\u001b[0;32m---> <a href='vscode-notebook-cell:/Users/jakubpiasecki/UJ/python/typing.ipynb#X44sZmlsZQ%3D%3D?line=19'>20</a>\u001b[0m Processor()\u001b[39m.\u001b[39mprocess(Cat())\n",
      "\u001b[0;31mNameError\u001b[0m: name 'Cat' is not defined"
     ]
    }
   ],
   "source": [
    "from typing import overload\n",
    "\n",
    "class Processor:\n",
    "  @overload\n",
    "  def process(self, response: int):\n",
    "    pass\n",
    "\n",
    "  # def test(self):\n",
    "  #   pass\n",
    "\n",
    "  @overload\n",
    "  def process(self, response: str):\n",
    "    pass\n",
    "\n",
    "  def process(self, response):\n",
    "    print(\"Received response:\", response)\n",
    "\n",
    "Processor().process(\"Hello world\")\n",
    "Processor().process(42)\n",
    "Processor().process(Cat())"
   ]
  },
  {
   "cell_type": "code",
   "execution_count": null,
   "metadata": {},
   "outputs": [],
   "source": []
  }
 ],
 "metadata": {
  "kernelspec": {
   "display_name": "base",
   "language": "python",
   "name": "python3"
  },
  "language_info": {
   "codemirror_mode": {
    "name": "ipython",
    "version": 3
   },
   "file_extension": ".py",
   "mimetype": "text/x-python",
   "name": "python",
   "nbconvert_exporter": "python",
   "pygments_lexer": "ipython3",
   "version": "3.11.1"
  }
 },
 "nbformat": 4,
 "nbformat_minor": 2
}
